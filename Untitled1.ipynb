{
 "cells": [
  {
   "cell_type": "code",
   "execution_count": 1,
   "id": "5c5e873b-7724-4064-923f-ae61d289587a",
   "metadata": {},
   "outputs": [],
   "source": [
    "import numpy as np"
   ]
  },
  {
   "cell_type": "code",
   "execution_count": 2,
   "id": "aec5206c-3bce-4ab5-ace9-49034cc7a832",
   "metadata": {},
   "outputs": [],
   "source": [
    "lista = [1,2,3,4,5]"
   ]
  },
  {
   "cell_type": "code",
   "execution_count": 4,
   "id": "15663f23-a571-4f9a-a18a-cd05ce986ca5",
   "metadata": {},
   "outputs": [],
   "source": [
    "tab = np.array(lista)"
   ]
  },
  {
   "cell_type": "code",
   "execution_count": 5,
   "id": "98d6ad9b-b9bf-4385-8a5e-5b0a8dc869bb",
   "metadata": {},
   "outputs": [
    {
     "name": "stdout",
     "output_type": "stream",
     "text": [
      "[1 2 3 4 5]\n"
     ]
    }
   ],
   "source": [
    "print(tab)"
   ]
  },
  {
   "cell_type": "code",
   "execution_count": null,
   "id": "022dfebc-0b0c-45cc-a7c1-4cd1405712f3",
   "metadata": {},
   "outputs": [],
   "source": []
  }
 ],
 "metadata": {
  "kernelspec": {
   "display_name": "Python 3 (ipykernel)",
   "language": "python",
   "name": "python3"
  },
  "language_info": {
   "codemirror_mode": {
    "name": "ipython",
    "version": 3
   },
   "file_extension": ".py",
   "mimetype": "text/x-python",
   "name": "python",
   "nbconvert_exporter": "python",
   "pygments_lexer": "ipython3",
   "version": "3.12.6"
  }
 },
 "nbformat": 4,
 "nbformat_minor": 5
}
